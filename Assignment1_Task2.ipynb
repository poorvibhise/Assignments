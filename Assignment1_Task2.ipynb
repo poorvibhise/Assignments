{
 "cells": [
  {
   "cell_type": "code",
   "execution_count": 3,
   "metadata": {},
   "outputs": [
    {
     "name": "stdout",
     "output_type": "stream",
     "text": [
      "Enter the comma seperated values10,20,30,40,50,60\n",
      "10,20,30,40,50,60\n",
      "['10', '20', '30', '40', '50', '60']\n"
     ]
    }
   ],
   "source": [
    "input_elements = input(\"Enter the comma seperated values\")\n",
    "lst=[]\n",
    "print(input_elements)\n",
    "\n",
    "lst = input_elements.split(\",\")\n",
    "print(lst)\n",
    "\n",
    "\n",
    "\n"
   ]
  },
  {
   "cell_type": "code",
   "execution_count": 21,
   "metadata": {},
   "outputs": [
    {
     "name": "stdout",
     "output_type": "stream",
     "text": [
      "* \n",
      "\n",
      "* * \n",
      "\n",
      "* * * \n",
      "\n",
      "* * * * \n",
      "\n",
      "* * * * * \n",
      "\n",
      "* * * * \n",
      "\n",
      "* * * \n",
      "\n",
      "* * \n",
      "\n",
      "* \n",
      "\n",
      "\n",
      "\n"
     ]
    }
   ],
   "source": [
    "rows=5\n",
    "for i in range(0,rows):\n",
    "    for j in range(0,i+1):\n",
    "        print(\"*\",end=' ')\n",
    "    print('\\n')\n",
    "    \n",
    "for i in range(rows,0,-1):\n",
    "    for j in range (0,i-1):\n",
    "        print(\"*\",end=' ')\n",
    "    print('\\n')        \n"
   ]
  },
  {
   "cell_type": "code",
   "execution_count": 29,
   "metadata": {},
   "outputs": [
    {
     "name": "stdout",
     "output_type": "stream",
     "text": [
      "Enter the string value to be reversed AcadGild\n",
      "8\n",
      "dliGdacA\n"
     ]
    }
   ],
   "source": [
    "toBeReversed = input(\"Enter the string value to be reversed \")\n",
    "Reversed=''\n",
    "\n",
    "#print(len(toBeReversed))\n",
    "\n",
    "\n",
    "for i in range (len(toBeReversed)-1,-1,-1):\n",
    "    Reversed = Reversed + toBeReversed[i]\n",
    "\n",
    "print(Reversed)\n"
   ]
  },
  {
   "cell_type": "code",
   "execution_count": 57,
   "metadata": {},
   "outputs": [
    {
     "name": "stdout",
     "output_type": "stream",
     "text": [
      "WE, THE PEOPLE OF INDIA,\r\n",
      " \r",
      "\t having solemnly resolved to constitute India into a SOVEREIGN,!\r\n",
      " \t \t SOCIALIST, SECULAR, DEMOCRATIC REPUBLIC \r\n",
      "\t\t and to secure to all its citizens\n"
     ]
    }
   ],
   "source": [
    "text ='WE, THE PEOPLE OF INDIA,\\r\\n \\r\\t having solemnly resolved to constitute India into a SOVEREIGN,!\\r\\n \\t \\t SOCIALIST, SECULAR, DEMOCRATIC REPUBLIC \\r\\n\\t\\t and to secure to all its citizens'\n",
    "print(text)"
   ]
  },
  {
   "cell_type": "code",
   "execution_count": null,
   "metadata": {},
   "outputs": [],
   "source": []
  },
  {
   "cell_type": "code",
   "execution_count": null,
   "metadata": {},
   "outputs": [],
   "source": []
  }
 ],
 "metadata": {
  "kernelspec": {
   "display_name": "Python 3",
   "language": "python",
   "name": "python3"
  },
  "language_info": {
   "codemirror_mode": {
    "name": "ipython",
    "version": 3
   },
   "file_extension": ".py",
   "mimetype": "text/x-python",
   "name": "python",
   "nbconvert_exporter": "python",
   "pygments_lexer": "ipython3",
   "version": "3.7.3"
  }
 },
 "nbformat": 4,
 "nbformat_minor": 2
}
